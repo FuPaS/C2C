{
 "cells": [
  {
   "cell_type": "markdown",
   "metadata": {},
   "source": [
    "**3. Klasse ‑ BaseCar**  - Mittwoch \n",
    "\n",
    "Datei: basecar.py mit Class BaseCar erbt von FrontWheels, BackWheels\n",
    "\n",
    "\n",
    "• steering_angle: Setzen und Zugriff auf den Lenkwinkel (Property mit Setter)\n",
    "• speed: Setzen und Zugriff auf die Geschwindigkeit (Property mit Setter)\n",
    "• direction: Zugriff auf die Fahrrichtung (1: vorwärts, 0: Stillstand, ‑1 Rückwärts) (Property\n",
    "ohne Setter)\n",
    "• drive(speed:int, direction:int): Methode zum Setzen von Geschwindigkeit und Fahrrichtung\n",
    "• stop: Methode zum Anhalten des Autos. Sie setzt die Geschwindigkeit auf Null und\n",
    "den Lenkwinkel auf Geradeaus.\n",
    "\n",
    "*Prüfen Sie, ob die Properties steering_angle, speed und direction immer die korrekten Werte liefern. Dies muss unabhängig von der Verwendungsgeschichte einer korrekten Instanz gewährleistet sein. Die Klasse BaseCar soll mittels der folgenden Aufgaben getestet werden.*\n",
    "\n",
    "In Main einbauen welcher Parcour und dementsprechend Methoden aufrufen.\n",
    "\n",
    "\n",
    "*Während dieser Fahrten sollen die Fahrdaten so aufgezeichnet werden, dass diese nach der Fahrt von der Instanz abgefragt werden und beispielsweise gespeichert oder anderweitig verarbeitet werden können. Die Fahrdaten umfassen die Geschwindigkeit, die Fahrtrichtung, den Lenkwinkel und die Daten des Ultraschallsensors. Die Daten sollen die verschiedenen Steueranweisungen und die ihnen zugrunde liegenden Sensordaten einer Fahrt reflektieren.*"
   ]
  },
  {
   "cell_type": "markdown",
   "metadata": {},
   "source": [
    "**4. Klasse ‑ SonicCar** - Donnerstag\n",
    "\n",
    "Datei: soniccar.py mit Class SonicCar erbt von BaseCar und Ultrasonic\n",
    "\n",
    "• Fahrparcours 3 ‑ Vorwärtsfahrt bis Hindernis: Fahren bis ein Hindernis im Weg ist und\n",
    "dann stoppen.\n",
    "• Fahrparcours 4 ‑ Erkundungstour: Das Auto soll bei freier Fahrt die Fahrrichtung, und\n",
    "optional auch die Geschwindigkeit, variieren. Im Falle eines Hindernisses soll das Auto\n",
    "die Fahrrichtung ändern und die Fahrt dann fortsetzen. Zur Änderung der Fahrrichtung\n",
    "ist dabei ein maximaler Lenkwinkel einzuschlagen und rückwärts zu fahren. Als Ergebnis\n",
    "soll das Auto den hindernsfreien Raum “erkunden”. Die genaue Gestaltung obliegt Ihnen."
   ]
  },
  {
   "cell_type": "markdown",
   "metadata": {},
   "source": [
    "**5. Visualiserung der Fahrdaten mit Dash** - Freitag\n",
    "\n",
    "...\n"
   ]
  },
  {
   "cell_type": "markdown",
   "metadata": {},
   "source": [
    "**6. Klasse ‑ SensorCar** - Montag/Dienstag\n",
    "\n",
    "Datei: sensorcar.py mit Class SensorCar erbt von SonicCar **??** und Infrared\n",
    "\n",
    "• Fahrparcours 5 ‑ Linienverfolgung : Folgen einer etwas 1,5 bis 2 cm breiten Linie auf dem Boden. Das Auto soll stoppen, sobald das Auto das Ende der Linie erreicht hat. Als Test soll eine Linie genutzt werden, die sowohl eine Rechts‑ als auch eine Linkskurve macht. Die Kurvenradien sollen deutlich größer sein als der maximale Radius, den das Auto ohne ausgleichende Fahrmanöver fahren kann.\n",
    "• Fahrparcours 6 ‑ Erweiterte Linienverfolgung: Folgen eine Linie, die sowohl eine Rechts‑ als auch eine Linkskurve macht mit Kurvenradien kleiner als der maximale Lenkwinkel."
   ]
  },
  {
   "cell_type": "markdown",
   "metadata": {},
   "source": [
    "**7. Fahrparcours 7 ‑ Erweiterte Linienverfolgung mit Hindernisserkennung (Optional):** - Dienstag / Mittwoch\n",
    "\n",
    "...\n"
   ]
  },
  {
   "cell_type": "markdown",
   "metadata": {},
   "source": [
    "**8. Nutzer Interface** - Mittwoch / Donnerstag\n",
    "\n",
    "..."
   ]
  }
 ],
 "metadata": {
  "language_info": {
   "name": "python"
  }
 },
 "nbformat": 4,
 "nbformat_minor": 2
}
